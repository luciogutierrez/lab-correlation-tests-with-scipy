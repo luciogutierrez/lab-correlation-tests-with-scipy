{
 "cells": [
  {
   "cell_type": "markdown",
   "metadata": {},
   "source": [
    "# Imports\r\n",
    "- Read the README.md file\r\n",
    "- Comment as much as you can and use the resources (README.md file)\r\n",
    "- Happy learning!"
   ]
  },
  {
   "cell_type": "code",
   "execution_count": 1,
   "metadata": {},
   "outputs": [],
   "source": [
    "# %matplotlib inline\r\n",
    "# import numpy and pandas\r\n",
    "import pandas as pd\r\n",
    "import numpy as np\r\n",
    "import scipy.stats as stats\r\n",
    "import re"
   ]
  },
  {
   "cell_type": "markdown",
   "metadata": {},
   "source": [
    "# Challenge 1 - Analysis of Variance\n",
    "\n",
    "In this part of the lesson, we will perform an analysis of variance to determine whether the factors in our model create a significant difference in the group means. We will be examining a dataset of FIFA players. We'll start by loading the data using the code in the cell below."
   ]
  },
  {
   "cell_type": "code",
   "execution_count": 2,
   "metadata": {},
   "outputs": [],
   "source": [
    "# Run this code:\r\n",
    "fifa = pd.read_csv('fifa.csv')"
   ]
  },
  {
   "cell_type": "markdown",
   "metadata": {},
   "source": [
    "Let's examine the dataset by looking at the `head`."
   ]
  },
  {
   "cell_type": "code",
   "execution_count": 3,
   "metadata": {},
   "outputs": [
    {
     "data": {
      "text/html": [
       "<div>\n",
       "<style scoped>\n",
       "    .dataframe tbody tr th:only-of-type {\n",
       "        vertical-align: middle;\n",
       "    }\n",
       "\n",
       "    .dataframe tbody tr th {\n",
       "        vertical-align: top;\n",
       "    }\n",
       "\n",
       "    .dataframe thead th {\n",
       "        text-align: right;\n",
       "    }\n",
       "</style>\n",
       "<table border=\"1\" class=\"dataframe\">\n",
       "  <thead>\n",
       "    <tr style=\"text-align: right;\">\n",
       "      <th></th>\n",
       "      <th>Name</th>\n",
       "      <th>Age</th>\n",
       "      <th>Nationality</th>\n",
       "      <th>Overall</th>\n",
       "      <th>Potential</th>\n",
       "      <th>Club</th>\n",
       "      <th>Value</th>\n",
       "      <th>Preferred Foot</th>\n",
       "      <th>Position</th>\n",
       "      <th>Weak Foot</th>\n",
       "      <th>Acceleration</th>\n",
       "      <th>SprintSpeed</th>\n",
       "      <th>Stamina</th>\n",
       "      <th>Strength</th>\n",
       "      <th>LongShots</th>\n",
       "      <th>Aggression</th>\n",
       "      <th>Interceptions</th>\n",
       "      <th>Positioning</th>\n",
       "      <th>Vision</th>\n",
       "      <th>Penalties</th>\n",
       "    </tr>\n",
       "  </thead>\n",
       "  <tbody>\n",
       "    <tr>\n",
       "      <th>0</th>\n",
       "      <td>L. Messi</td>\n",
       "      <td>31</td>\n",
       "      <td>Argentina</td>\n",
       "      <td>94</td>\n",
       "      <td>94</td>\n",
       "      <td>FC Barcelona</td>\n",
       "      <td>€110.5M</td>\n",
       "      <td>Left</td>\n",
       "      <td>RF</td>\n",
       "      <td>4.0</td>\n",
       "      <td>91.0</td>\n",
       "      <td>86.0</td>\n",
       "      <td>72.0</td>\n",
       "      <td>59.0</td>\n",
       "      <td>94.0</td>\n",
       "      <td>48.0</td>\n",
       "      <td>22.0</td>\n",
       "      <td>94.0</td>\n",
       "      <td>94.0</td>\n",
       "      <td>75.0</td>\n",
       "    </tr>\n",
       "    <tr>\n",
       "      <th>1</th>\n",
       "      <td>Cristiano Ronaldo</td>\n",
       "      <td>33</td>\n",
       "      <td>Portugal</td>\n",
       "      <td>94</td>\n",
       "      <td>94</td>\n",
       "      <td>Juventus</td>\n",
       "      <td>€77M</td>\n",
       "      <td>Right</td>\n",
       "      <td>ST</td>\n",
       "      <td>4.0</td>\n",
       "      <td>89.0</td>\n",
       "      <td>91.0</td>\n",
       "      <td>88.0</td>\n",
       "      <td>79.0</td>\n",
       "      <td>93.0</td>\n",
       "      <td>63.0</td>\n",
       "      <td>29.0</td>\n",
       "      <td>95.0</td>\n",
       "      <td>82.0</td>\n",
       "      <td>85.0</td>\n",
       "    </tr>\n",
       "    <tr>\n",
       "      <th>2</th>\n",
       "      <td>Neymar Jr</td>\n",
       "      <td>26</td>\n",
       "      <td>Brazil</td>\n",
       "      <td>92</td>\n",
       "      <td>93</td>\n",
       "      <td>Paris Saint-Germain</td>\n",
       "      <td>€118.5M</td>\n",
       "      <td>Right</td>\n",
       "      <td>LW</td>\n",
       "      <td>5.0</td>\n",
       "      <td>94.0</td>\n",
       "      <td>90.0</td>\n",
       "      <td>81.0</td>\n",
       "      <td>49.0</td>\n",
       "      <td>82.0</td>\n",
       "      <td>56.0</td>\n",
       "      <td>36.0</td>\n",
       "      <td>89.0</td>\n",
       "      <td>87.0</td>\n",
       "      <td>81.0</td>\n",
       "    </tr>\n",
       "    <tr>\n",
       "      <th>3</th>\n",
       "      <td>De Gea</td>\n",
       "      <td>27</td>\n",
       "      <td>Spain</td>\n",
       "      <td>91</td>\n",
       "      <td>93</td>\n",
       "      <td>Manchester United</td>\n",
       "      <td>€72M</td>\n",
       "      <td>Right</td>\n",
       "      <td>GK</td>\n",
       "      <td>3.0</td>\n",
       "      <td>57.0</td>\n",
       "      <td>58.0</td>\n",
       "      <td>43.0</td>\n",
       "      <td>64.0</td>\n",
       "      <td>12.0</td>\n",
       "      <td>38.0</td>\n",
       "      <td>30.0</td>\n",
       "      <td>12.0</td>\n",
       "      <td>68.0</td>\n",
       "      <td>40.0</td>\n",
       "    </tr>\n",
       "    <tr>\n",
       "      <th>4</th>\n",
       "      <td>K. De Bruyne</td>\n",
       "      <td>27</td>\n",
       "      <td>Belgium</td>\n",
       "      <td>91</td>\n",
       "      <td>92</td>\n",
       "      <td>Manchester City</td>\n",
       "      <td>€102M</td>\n",
       "      <td>Right</td>\n",
       "      <td>RCM</td>\n",
       "      <td>5.0</td>\n",
       "      <td>78.0</td>\n",
       "      <td>76.0</td>\n",
       "      <td>90.0</td>\n",
       "      <td>75.0</td>\n",
       "      <td>91.0</td>\n",
       "      <td>76.0</td>\n",
       "      <td>61.0</td>\n",
       "      <td>87.0</td>\n",
       "      <td>94.0</td>\n",
       "      <td>79.0</td>\n",
       "    </tr>\n",
       "  </tbody>\n",
       "</table>\n",
       "</div>"
      ],
      "text/plain": [
       "                Name  Age Nationality  Overall  Potential  \\\n",
       "0           L. Messi   31   Argentina       94         94   \n",
       "1  Cristiano Ronaldo   33    Portugal       94         94   \n",
       "2          Neymar Jr   26      Brazil       92         93   \n",
       "3             De Gea   27       Spain       91         93   \n",
       "4       K. De Bruyne   27     Belgium       91         92   \n",
       "\n",
       "                  Club    Value Preferred Foot Position  Weak Foot  \\\n",
       "0         FC Barcelona  €110.5M           Left       RF        4.0   \n",
       "1             Juventus     €77M          Right       ST        4.0   \n",
       "2  Paris Saint-Germain  €118.5M          Right       LW        5.0   \n",
       "3    Manchester United     €72M          Right       GK        3.0   \n",
       "4      Manchester City    €102M          Right      RCM        5.0   \n",
       "\n",
       "   Acceleration  SprintSpeed  Stamina  Strength  LongShots  Aggression  \\\n",
       "0          91.0         86.0     72.0      59.0       94.0        48.0   \n",
       "1          89.0         91.0     88.0      79.0       93.0        63.0   \n",
       "2          94.0         90.0     81.0      49.0       82.0        56.0   \n",
       "3          57.0         58.0     43.0      64.0       12.0        38.0   \n",
       "4          78.0         76.0     90.0      75.0       91.0        76.0   \n",
       "\n",
       "   Interceptions  Positioning  Vision  Penalties  \n",
       "0           22.0         94.0    94.0       75.0  \n",
       "1           29.0         95.0    82.0       85.0  \n",
       "2           36.0         89.0    87.0       81.0  \n",
       "3           30.0         12.0    68.0       40.0  \n",
       "4           61.0         87.0    94.0       79.0  "
      ]
     },
     "execution_count": 3,
     "metadata": {},
     "output_type": "execute_result"
    }
   ],
   "source": [
    "# Your code here:\r\n",
    "fifa.head()\r\n"
   ]
  },
  {
   "cell_type": "code",
   "execution_count": 4,
   "metadata": {},
   "outputs": [
    {
     "name": "stdout",
     "output_type": "stream",
     "text": [
      "<class 'pandas.core.frame.DataFrame'>\n",
      "RangeIndex: 18207 entries, 0 to 18206\n",
      "Data columns (total 20 columns):\n",
      " #   Column          Non-Null Count  Dtype  \n",
      "---  ------          --------------  -----  \n",
      " 0   Name            18207 non-null  object \n",
      " 1   Age             18207 non-null  int64  \n",
      " 2   Nationality     18207 non-null  object \n",
      " 3   Overall         18207 non-null  int64  \n",
      " 4   Potential       18207 non-null  int64  \n",
      " 5   Club            17966 non-null  object \n",
      " 6   Value           18207 non-null  object \n",
      " 7   Preferred Foot  18159 non-null  object \n",
      " 8   Position        18147 non-null  object \n",
      " 9   Weak Foot       18159 non-null  float64\n",
      " 10  Acceleration    18159 non-null  float64\n",
      " 11  SprintSpeed     18159 non-null  float64\n",
      " 12  Stamina         18159 non-null  float64\n",
      " 13  Strength        18159 non-null  float64\n",
      " 14  LongShots       18159 non-null  float64\n",
      " 15  Aggression      18159 non-null  float64\n",
      " 16  Interceptions   18159 non-null  float64\n",
      " 17  Positioning     18159 non-null  float64\n",
      " 18  Vision          18159 non-null  float64\n",
      " 19  Penalties       18159 non-null  float64\n",
      "dtypes: float64(11), int64(3), object(6)\n",
      "memory usage: 2.8+ MB\n"
     ]
    }
   ],
   "source": [
    "fifa.info()"
   ]
  },
  {
   "cell_type": "markdown",
   "metadata": {},
   "source": [
    "Player's values are expressed in millions of euros. We would like this column to be numeric. Therefore, let's create a numeric value column. Do this by stripping all non-numeric characters from each cell. Assign this new data to `ValueNumeric`. There is no need to multiply the value to be expressed in millions. "
   ]
  },
  {
   "cell_type": "code",
   "execution_count": 5,
   "metadata": {},
   "outputs": [
    {
     "data": {
      "text/plain": [
       "0        110.5\n",
       "1           77\n",
       "2        118.5\n",
       "3           72\n",
       "4          102\n",
       "         ...  \n",
       "18202       60\n",
       "18203       60\n",
       "18204       60\n",
       "18205       60\n",
       "18206       60\n",
       "Name: ValueNumeric, Length: 18207, dtype: object"
      ]
     },
     "execution_count": 5,
     "metadata": {},
     "output_type": "execute_result"
    }
   ],
   "source": [
    "# Your code here:\r\n",
    "fifa['ValueNumeric'] = fifa['Value'].apply(lambda x: x.lstrip('€').rstrip('MK'))\r\n",
    "fifa['ValueNumeric']\r\n"
   ]
  },
  {
   "cell_type": "code",
   "execution_count": 6,
   "metadata": {},
   "outputs": [],
   "source": [
    "fifa['ValueNumeric'] = fifa['ValueNumeric'].astype(float)"
   ]
  },
  {
   "cell_type": "markdown",
   "metadata": {},
   "source": [
    "#### We'd like to determine whether a player's preffered foot and position have an impact on their value. \n",
    "\n",
    "Using the `statsmodels` library, we are able to produce an ANOVA table without munging our data. Create an ANOVA table with value as a function of position and preferred foot. Recall that pivoting is performed by the `C` function.\n",
    "\n",
    "Hint: For columns that have a space in their name, it is best to refer to the column using the dataframe (For example: for column `A`, we will use `df['A']`)."
   ]
  },
  {
   "cell_type": "code",
   "execution_count": 7,
   "metadata": {},
   "outputs": [
    {
     "data": {
      "text/plain": [
       "ST     2152\n",
       "GK     2025\n",
       "CB     1778\n",
       "CM     1394\n",
       "LB     1322\n",
       "RB     1291\n",
       "RM     1124\n",
       "LM     1095\n",
       "CAM     958\n",
       "CDM     948\n",
       "RCB     662\n",
       "LCB     648\n",
       "LCM     395\n",
       "RCM     391\n",
       "LW      381\n",
       "RW      370\n",
       "RDM     248\n",
       "LDM     243\n",
       "LS      207\n",
       "RS      203\n",
       "RWB      87\n",
       "LWB      78\n",
       "CF       74\n",
       "RAM      21\n",
       "LAM      21\n",
       "RF       16\n",
       "LF       15\n",
       "Name: Position, dtype: int64"
      ]
     },
     "execution_count": 7,
     "metadata": {},
     "output_type": "execute_result"
    }
   ],
   "source": [
    "# Your code here:\r\n",
    "fifa['Position'].value_counts()"
   ]
  },
  {
   "cell_type": "code",
   "execution_count": 8,
   "metadata": {},
   "outputs": [
    {
     "name": "stdout",
     "output_type": "stream",
     "text": [
      "object\n",
      "60\n",
      "float64\n",
      "0\n",
      "object\n",
      "48\n"
     ]
    }
   ],
   "source": [
    "print(fifa.Position.dtype)\r\n",
    "print(fifa.Position.isnull().sum())\r\n",
    "print(fifa.ValueNumeric.dtype)\r\n",
    "print(fifa.ValueNumeric.isnull().sum())\r\n",
    "print(fifa['Preferred Foot'].dtype)\r\n",
    "print(fifa['Preferred Foot'].isnull().sum())"
   ]
  },
  {
   "cell_type": "code",
   "execution_count": 9,
   "metadata": {},
   "outputs": [
    {
     "data": {
      "text/plain": [
       "18207"
      ]
     },
     "execution_count": 9,
     "metadata": {},
     "output_type": "execute_result"
    }
   ],
   "source": [
    "len(fifa)"
   ]
  },
  {
   "cell_type": "code",
   "execution_count": 10,
   "metadata": {},
   "outputs": [
    {
     "data": {
      "text/plain": [
       "18147"
      ]
     },
     "execution_count": 10,
     "metadata": {},
     "output_type": "execute_result"
    }
   ],
   "source": [
    "df_position = fifa[fifa['Position'].notnull()]\r\n",
    "len(df_position)"
   ]
  },
  {
   "cell_type": "code",
   "execution_count": 11,
   "metadata": {},
   "outputs": [
    {
     "name": "stdout",
     "output_type": "stream",
     "text": [
      "0\n"
     ]
    }
   ],
   "source": [
    "print(df_position['Preferred Foot'].isnull().sum())"
   ]
  },
  {
   "cell_type": "code",
   "execution_count": 12,
   "metadata": {},
   "outputs": [
    {
     "data": {
      "text/html": [
       "<div>\n",
       "<style scoped>\n",
       "    .dataframe tbody tr th:only-of-type {\n",
       "        vertical-align: middle;\n",
       "    }\n",
       "\n",
       "    .dataframe tbody tr th {\n",
       "        vertical-align: top;\n",
       "    }\n",
       "\n",
       "    .dataframe thead th {\n",
       "        text-align: right;\n",
       "    }\n",
       "</style>\n",
       "<table border=\"1\" class=\"dataframe\">\n",
       "  <thead>\n",
       "    <tr style=\"text-align: right;\">\n",
       "      <th></th>\n",
       "      <th>ValueNumeric</th>\n",
       "      <th>Position</th>\n",
       "      <th>Preferred Foot</th>\n",
       "    </tr>\n",
       "  </thead>\n",
       "  <tbody>\n",
       "    <tr>\n",
       "      <th>0</th>\n",
       "      <td>110.5</td>\n",
       "      <td>RF</td>\n",
       "      <td>Left</td>\n",
       "    </tr>\n",
       "    <tr>\n",
       "      <th>1</th>\n",
       "      <td>77.0</td>\n",
       "      <td>ST</td>\n",
       "      <td>Right</td>\n",
       "    </tr>\n",
       "    <tr>\n",
       "      <th>2</th>\n",
       "      <td>118.5</td>\n",
       "      <td>LW</td>\n",
       "      <td>Right</td>\n",
       "    </tr>\n",
       "    <tr>\n",
       "      <th>3</th>\n",
       "      <td>72.0</td>\n",
       "      <td>GK</td>\n",
       "      <td>Right</td>\n",
       "    </tr>\n",
       "    <tr>\n",
       "      <th>4</th>\n",
       "      <td>102.0</td>\n",
       "      <td>RCM</td>\n",
       "      <td>Right</td>\n",
       "    </tr>\n",
       "  </tbody>\n",
       "</table>\n",
       "</div>"
      ],
      "text/plain": [
       "   ValueNumeric Position Preferred Foot\n",
       "0         110.5       RF           Left\n",
       "1          77.0       ST          Right\n",
       "2         118.5       LW          Right\n",
       "3          72.0       GK          Right\n",
       "4         102.0      RCM          Right"
      ]
     },
     "execution_count": 12,
     "metadata": {},
     "output_type": "execute_result"
    }
   ],
   "source": [
    "df_anova =  df_position[['ValueNumeric','Position','Preferred Foot']]\r\n",
    "df_anova.head()"
   ]
  },
  {
   "cell_type": "code",
   "execution_count": 13,
   "metadata": {},
   "outputs": [
    {
     "data": {
      "text/plain": [
       "array(['Left', 'Right'], dtype=object)"
      ]
     },
     "execution_count": 13,
     "metadata": {},
     "output_type": "execute_result"
    }
   ],
   "source": [
    "grps = pd.unique(df_anova['Preferred Foot'])\r\n",
    "grps"
   ]
  },
  {
   "cell_type": "code",
   "execution_count": 14,
   "metadata": {},
   "outputs": [
    {
     "data": {
      "text/plain": [
       "0        110.5\n",
       "13        60.0\n",
       "15        89.0\n",
       "17        78.0\n",
       "19        53.5\n",
       "         ...  \n",
       "18172     50.0\n",
       "18175     40.0\n",
       "18191     50.0\n",
       "18200     60.0\n",
       "18201     60.0\n",
       "Name: ValueNumeric, Length: 4209, dtype: float64"
      ]
     },
     "execution_count": 14,
     "metadata": {},
     "output_type": "execute_result"
    }
   ],
   "source": [
    "d_data = {grp:df_anova['ValueNumeric'][df_anova['Preferred Foot'] == grp] for grp in grps}\r\n",
    "first_value = list(d_data.values())[0]\r\n",
    "first_value"
   ]
  },
  {
   "cell_type": "code",
   "execution_count": 15,
   "metadata": {},
   "outputs": [
    {
     "name": "stdout",
     "output_type": "stream",
     "text": [
      "F = 3.717056557489896, p=0.0538748239296697\n"
     ]
    }
   ],
   "source": [
    "F, p = stats.f_oneway(d_data['Left'], d_data['Right'])\r\n",
    "print(f'F = {F}, p={p}')"
   ]
  },
  {
   "cell_type": "code",
   "execution_count": 16,
   "metadata": {},
   "outputs": [
    {
     "data": {
      "text/plain": [
       "array(['RF', 'ST', 'LW', 'GK', 'RCM', 'LF', 'RS', 'RCB', 'LCM', 'CB',\n",
       "       'LDM', 'CAM', 'CDM', 'LS', 'LCB', 'RM', 'LAM', 'LM', 'LB', 'RDM',\n",
       "       'RW', 'CM', 'RB', 'RAM', 'CF', 'RWB', 'LWB'], dtype=object)"
      ]
     },
     "execution_count": 16,
     "metadata": {},
     "output_type": "execute_result"
    }
   ],
   "source": [
    "grps = pd.unique(df_anova['Position'])\r\n",
    "grps"
   ]
  },
  {
   "cell_type": "code",
   "execution_count": 17,
   "metadata": {},
   "outputs": [
    {
     "data": {
      "text/plain": [
       "0        110.5\n",
       "50        45.0\n",
       "528       11.5\n",
       "890        6.5\n",
       "1774       6.5\n",
       "3255       4.2\n",
       "3596       3.3\n",
       "3759       3.9\n",
       "5465       3.1\n",
       "6108       1.0\n",
       "6161       1.5\n",
       "6430       1.1\n",
       "6662       1.2\n",
       "9388     220.0\n",
       "9506     850.0\n",
       "10110    625.0\n",
       "Name: ValueNumeric, dtype: float64"
      ]
     },
     "execution_count": 17,
     "metadata": {},
     "output_type": "execute_result"
    }
   ],
   "source": [
    "d_data = {grp:df_anova['ValueNumeric'][df_anova['Position'] == grp] for grp in grps}\r\n",
    "first_value = list(d_data.values())[0]\r\n",
    "first_value"
   ]
  },
  {
   "cell_type": "code",
   "execution_count": 18,
   "metadata": {},
   "outputs": [
    {
     "name": "stdout",
     "output_type": "stream",
     "text": [
      "F = 4.141509197155249, p=7.234254135439405e-12\n"
     ]
    }
   ],
   "source": [
    "F, p = stats.f_oneway(d_data['RF'], d_data['ST'], d_data['LW'], d_data['GK'], d_data['RCM'], d_data['LF'],\r\n",
    "                      d_data['RS'], d_data['RCB'], d_data['LCM'], d_data['CB'], d_data['LDM'], d_data['CAM'],\r\n",
    "                      d_data['CDM'], d_data['LS'], d_data['LCB'], d_data['RM'], d_data['LAM'], d_data['LM'],\r\n",
    "                      d_data['LB'], d_data['RDM'], d_data['RW'], d_data['CM'], d_data['RB'], d_data['RAM'],\r\n",
    "                      d_data['CF'], d_data['RWB'], d_data['LWB'])\r\n",
    "print(f'F = {F}, p={p}')"
   ]
  },
  {
   "cell_type": "markdown",
   "metadata": {},
   "source": [
    "What is your conclusion from this ANOVA?"
   ]
  },
  {
   "cell_type": "code",
   "execution_count": 6,
   "metadata": {},
   "outputs": [],
   "source": [
    "# Your conclusions here:\r\n",
    "# para el caso de si hay relación entre si son zurdos o diestros con su valor \r\n",
    "# Como el valor de pvalue es mayor al margen de tolerancia aceptamos la hipotesis nula\r\n",
    "# Por lo tanto llegamos a la conclusión de que NO existe una diferencia significativa \r\n",
    "# entre si son zurdos o diestros con su valor \r\n",
    "\r\n",
    "# para el caso de si hay relación entre la Posisción y el valor del jugador\r\n",
    "# Como el valor de pvalue es menor al margen de tolerancia aceptamos la hipotesis nula\r\n",
    "# Por lo tanto llegamos a la conclusión de que SI existe una diferencia significativa \r\n",
    "# entre la Posisción y el valor del jugador"
   ]
  },
  {
   "cell_type": "markdown",
   "metadata": {},
   "source": [
    "After looking at a model of both preffered foot and position, we decide to create an ANOVA table for nationality. Create an ANOVA table for numeric value as a function of nationality."
   ]
  },
  {
   "cell_type": "code",
   "execution_count": 19,
   "metadata": {},
   "outputs": [
    {
     "name": "stdout",
     "output_type": "stream",
     "text": [
      "0\n",
      "0\n"
     ]
    }
   ],
   "source": [
    "print(fifa['Nationality'].isnull().sum())\r\n",
    "print(fifa['ValueNumeric'].isnull().sum())"
   ]
  },
  {
   "cell_type": "code",
   "execution_count": 20,
   "metadata": {},
   "outputs": [
    {
     "data": {
      "text/html": [
       "<div>\n",
       "<style scoped>\n",
       "    .dataframe tbody tr th:only-of-type {\n",
       "        vertical-align: middle;\n",
       "    }\n",
       "\n",
       "    .dataframe tbody tr th {\n",
       "        vertical-align: top;\n",
       "    }\n",
       "\n",
       "    .dataframe thead th {\n",
       "        text-align: right;\n",
       "    }\n",
       "</style>\n",
       "<table border=\"1\" class=\"dataframe\">\n",
       "  <thead>\n",
       "    <tr style=\"text-align: right;\">\n",
       "      <th></th>\n",
       "      <th>ValueNumeric</th>\n",
       "      <th>Nationality</th>\n",
       "    </tr>\n",
       "  </thead>\n",
       "  <tbody>\n",
       "    <tr>\n",
       "      <th>0</th>\n",
       "      <td>110.5</td>\n",
       "      <td>Argentina</td>\n",
       "    </tr>\n",
       "    <tr>\n",
       "      <th>1</th>\n",
       "      <td>77.0</td>\n",
       "      <td>Portugal</td>\n",
       "    </tr>\n",
       "    <tr>\n",
       "      <th>2</th>\n",
       "      <td>118.5</td>\n",
       "      <td>Brazil</td>\n",
       "    </tr>\n",
       "    <tr>\n",
       "      <th>3</th>\n",
       "      <td>72.0</td>\n",
       "      <td>Spain</td>\n",
       "    </tr>\n",
       "    <tr>\n",
       "      <th>4</th>\n",
       "      <td>102.0</td>\n",
       "      <td>Belgium</td>\n",
       "    </tr>\n",
       "  </tbody>\n",
       "</table>\n",
       "</div>"
      ],
      "text/plain": [
       "   ValueNumeric Nationality\n",
       "0         110.5   Argentina\n",
       "1          77.0    Portugal\n",
       "2         118.5      Brazil\n",
       "3          72.0       Spain\n",
       "4         102.0     Belgium"
      ]
     },
     "execution_count": 20,
     "metadata": {},
     "output_type": "execute_result"
    }
   ],
   "source": [
    "df_anova =  df_position[['ValueNumeric','Nationality']]\r\n",
    "df_anova.head()"
   ]
  },
  {
   "cell_type": "code",
   "execution_count": 21,
   "metadata": {},
   "outputs": [
    {
     "data": {
      "text/plain": [
       "array(['Argentina', 'Portugal', 'Brazil', 'Spain', 'Belgium', 'Croatia',\n",
       "       'Uruguay', 'Slovenia', 'Poland', 'Germany', 'France', 'England',\n",
       "       'Italy', 'Egypt', 'Colombia', 'Denmark', 'Gabon', 'Wales',\n",
       "       'Senegal', 'Costa Rica', 'Slovakia', 'Netherlands',\n",
       "       'Bosnia Herzegovina', 'Morocco', 'Serbia', 'Algeria', 'Austria',\n",
       "       'Greece', 'Chile', 'Sweden', 'Korea Republic', 'Finland', 'Guinea',\n",
       "       'Montenegro', 'Armenia', 'Switzerland', 'Norway', 'Czech Republic',\n",
       "       'Scotland', 'Ghana', 'Central African Rep.', 'DR Congo',\n",
       "       'Ivory Coast', 'Russia', 'Ukraine', 'Iceland', 'Mexico', 'Jamaica',\n",
       "       'Albania', 'Venezuela', 'Japan', 'Turkey', 'Ecuador', 'Paraguay',\n",
       "       'Mali', 'Nigeria', 'Cameroon', 'Dominican Republic', 'Israel',\n",
       "       'Kenya', 'Hungary', 'Republic of Ireland', 'Romania',\n",
       "       'United States', 'Cape Verde', 'Australia', 'Peru', 'Togo',\n",
       "       'Syria', 'Zimbabwe', 'Angola', 'Burkina Faso', 'Iran', 'Estonia',\n",
       "       'Tunisia', 'Equatorial Guinea', 'New Zealand', 'FYR Macedonia',\n",
       "       'United Arab Emirates', 'China PR', 'Guinea Bissau', 'Bulgaria',\n",
       "       'Kosovo', 'South Africa', 'Madagascar', 'Georgia', 'Tanzania',\n",
       "       'Gambia', 'Cuba', 'Belarus', 'Uzbekistan', 'Benin', 'Congo',\n",
       "       'Mozambique', 'Honduras', 'Canada', 'Northern Ireland', 'Cyprus',\n",
       "       'Saudi Arabia', 'Curacao', 'Moldova', 'Bolivia',\n",
       "       'Trinidad & Tobago', 'Sierra Leone', 'Zambia', 'Chad',\n",
       "       'Philippines', 'Haiti', 'Comoros', 'Libya', 'Panama',\n",
       "       'São Tomé & Príncipe', 'Eritrea', 'Oman', 'Iraq', 'Burundi',\n",
       "       'Fiji', 'New Caledonia', 'Lithuania', 'Luxembourg', 'Korea DPR',\n",
       "       'Liechtenstein', 'St Kitts Nevis', 'Latvia', 'Suriname', 'Uganda',\n",
       "       'El Salvador', 'Bermuda', 'Kuwait', 'Antigua & Barbuda',\n",
       "       'Thailand', 'Mauritius', 'Guatemala', 'Liberia', 'Kazakhstan',\n",
       "       'Niger', 'Mauritania', 'Montserrat', 'Namibia', 'Azerbaijan',\n",
       "       'Guam', 'Faroe Islands', 'India', 'Nicaragua', 'Barbados',\n",
       "       'Lebanon', 'Palestine', 'Guyana', 'Sudan', 'St Lucia', 'Ethiopia',\n",
       "       'Puerto Rico', 'Grenada', 'Jordan', 'Rwanda', 'Qatar',\n",
       "       'Afghanistan', 'Hong Kong', 'Andorra', 'Malta', 'Belize',\n",
       "       'South Sudan', 'Indonesia', 'Botswana'], dtype=object)"
      ]
     },
     "execution_count": 21,
     "metadata": {},
     "output_type": "execute_result"
    }
   ],
   "source": [
    "# Your code here:\r\n",
    "grps = pd.unique(df_anova['Nationality'])\r\n",
    "grps\r\n"
   ]
  },
  {
   "cell_type": "code",
   "execution_count": 22,
   "metadata": {},
   "outputs": [
    {
     "data": {
      "text/plain": [
       "0        110.5\n",
       "15        89.0\n",
       "23        64.5\n",
       "38        57.0\n",
       "43        64.5\n",
       "         ...  \n",
       "17349    120.0\n",
       "17355    140.0\n",
       "17638     50.0\n",
       "17861    110.0\n",
       "17987     40.0\n",
       "Name: ValueNumeric, Length: 936, dtype: float64"
      ]
     },
     "execution_count": 22,
     "metadata": {},
     "output_type": "execute_result"
    }
   ],
   "source": [
    "d_data = {grp:df_anova['ValueNumeric'][df_anova['Nationality'] == grp] for grp in grps}\r\n",
    "first_value = list(d_data.values())[0]\r\n",
    "first_value"
   ]
  },
  {
   "cell_type": "code",
   "execution_count": 54,
   "metadata": {},
   "outputs": [
    {
     "name": "stdout",
     "output_type": "stream",
     "text": [
      "F = 9.408615306582515, p=4.665176133449194e-25\n"
     ]
    }
   ],
   "source": [
    "F, p = stats.f_oneway(d_data['Argentina'], d_data['Portugal'], d_data['Brazil'], d_data['Spain'], d_data['Belgium'], d_data['Croatia'], d_data       ['Uruguay'], d_data['Slovenia'], d_data['Poland'], d_data['Germany'], d_data['France'], d_data['England'], d_data       ['Italy'], d_data['Egypt'], d_data['Colombia'], d_data['Denmark'], d_data['Gabon'], d_data['Wales'])    \r\n",
    "print(f'F = {F}, p={p}')"
   ]
  },
  {
   "cell_type": "markdown",
   "metadata": {},
   "source": [
    "What is your conclusion from this ANOVA?"
   ]
  },
  {
   "cell_type": "code",
   "execution_count": null,
   "metadata": {},
   "outputs": [],
   "source": [
    "# Como el valor de pvalue es menor al margen de tolerancia rechazamos la hipotesis nula\r\n",
    "# Por lo tanto llegamos a la conclusión de que SI existe una diferencia significativa \r\n",
    "# entre la Nacionalidad y el valor del jugador."
   ]
  },
  {
   "cell_type": "markdown",
   "metadata": {},
   "source": [
    "# Challenge 2 - Linear Regression\n",
    "\n",
    "Our goal with using linear regression is to create a mathematical model that will enable us to predict the outcome of one variable using one or more additional independent variables.\n",
    "\n",
    "We'll start by ensuring there are no missing values. Examine all variables for all missing values. If there are missing values in a row, remove the entire row."
   ]
  },
  {
   "cell_type": "code",
   "execution_count": 25,
   "metadata": {},
   "outputs": [
    {
     "data": {
      "text/plain": [
       "(18207, 21)"
      ]
     },
     "execution_count": 25,
     "metadata": {},
     "output_type": "execute_result"
    }
   ],
   "source": [
    "fifa.shape"
   ]
  },
  {
   "cell_type": "code",
   "execution_count": 23,
   "metadata": {},
   "outputs": [
    {
     "data": {
      "text/plain": [
       "Name                0\n",
       "Age                 0\n",
       "Nationality         0\n",
       "Overall             0\n",
       "Potential           0\n",
       "Club              241\n",
       "Value               0\n",
       "Preferred Foot     48\n",
       "Position           60\n",
       "Weak Foot          48\n",
       "Acceleration       48\n",
       "SprintSpeed        48\n",
       "Stamina            48\n",
       "Strength           48\n",
       "LongShots          48\n",
       "Aggression         48\n",
       "Interceptions      48\n",
       "Positioning        48\n",
       "Vision             48\n",
       "Penalties          48\n",
       "ValueNumeric        0\n",
       "dtype: int64"
      ]
     },
     "execution_count": 23,
     "metadata": {},
     "output_type": "execute_result"
    }
   ],
   "source": [
    "# Your code here:\r\n",
    "fifa.isna().sum()\r\n",
    "\r\n"
   ]
  },
  {
   "cell_type": "code",
   "execution_count": 30,
   "metadata": {},
   "outputs": [
    {
     "data": {
      "text/plain": [
       "0.01323666721590597"
      ]
     },
     "execution_count": 30,
     "metadata": {},
     "output_type": "execute_result"
    }
   ],
   "source": [
    "# % of rowsna\r\n",
    "rowsna = len(fifa.loc[fifa.Club.isnull()])\r\n",
    "rows = len(fifa) \r\n",
    "percent = rowsna / rows\r\n",
    "percent"
   ]
  },
  {
   "cell_type": "code",
   "execution_count": 32,
   "metadata": {},
   "outputs": [
    {
     "data": {
      "text/plain": [
       "Name              0\n",
       "Age               0\n",
       "Nationality       0\n",
       "Overall           0\n",
       "Potential         0\n",
       "Club              0\n",
       "Value             0\n",
       "Preferred Foot    0\n",
       "Position          0\n",
       "Weak Foot         0\n",
       "Acceleration      0\n",
       "SprintSpeed       0\n",
       "Stamina           0\n",
       "Strength          0\n",
       "LongShots         0\n",
       "Aggression        0\n",
       "Interceptions     0\n",
       "Positioning       0\n",
       "Vision            0\n",
       "Penalties         0\n",
       "ValueNumeric      0\n",
       "dtype: int64"
      ]
     },
     "execution_count": 32,
     "metadata": {},
     "output_type": "execute_result"
    }
   ],
   "source": [
    "# since de rows na represent less than 1% we can delete them without afect test\r\n",
    "fifa.dropna(inplace=True)\r\n",
    "fifa.isna().sum()"
   ]
  },
  {
   "cell_type": "code",
   "execution_count": 33,
   "metadata": {},
   "outputs": [
    {
     "data": {
      "text/plain": [
       "(17918, 21)"
      ]
     },
     "execution_count": 33,
     "metadata": {},
     "output_type": "execute_result"
    }
   ],
   "source": [
    "fifa.shape"
   ]
  },
  {
   "cell_type": "markdown",
   "metadata": {},
   "source": [
    "Using the FIFA dataset, in the cell below, create a linear model predicting value using stamina and sprint speed. create the model using `statsmodels`. Print the model summary.\n",
    "\n",
    "Hint: remember to add an intercept to the model using the `add_constant` function."
   ]
  },
  {
   "cell_type": "markdown",
   "metadata": {},
   "source": [
    "# Y = AX + B"
   ]
  },
  {
   "cell_type": "code",
   "execution_count": 100,
   "metadata": {},
   "outputs": [
    {
     "data": {
      "text/plain": [
       "['Age',\n",
       " 'Overall',\n",
       " 'Potential',\n",
       " 'Weak Foot',\n",
       " 'Acceleration',\n",
       " 'SprintSpeed',\n",
       " 'Stamina',\n",
       " 'Strength',\n",
       " 'LongShots',\n",
       " 'Aggression',\n",
       " 'Interceptions',\n",
       " 'Positioning',\n",
       " 'Vision',\n",
       " 'Penalties',\n",
       " 'ValueNumeric']"
      ]
     },
     "execution_count": 100,
     "metadata": {},
     "output_type": "execute_result"
    }
   ],
   "source": [
    "# get list of numerical cols\r\n",
    "numerical_cols = list(fifa.columns[fifa.dtypes != object])\r\n",
    "numerical_cols"
   ]
  },
  {
   "cell_type": "code",
   "execution_count": 107,
   "metadata": {},
   "outputs": [],
   "source": [
    "df = fifa[['Age', 'Overall', 'Potential', 'Weak Foot', 'Acceleration', 'SprintSpeed', 'Stamina', 'Strength', 'LongShots', 'Aggression', 'Interceptions', 'Positioning', 'Vision', 'Penalties', 'ValueNumeric']]"
   ]
  },
  {
   "cell_type": "code",
   "execution_count": 108,
   "metadata": {},
   "outputs": [],
   "source": [
    "# Your code here:\r\n",
    "y = df.Stamina\r\n",
    "x = df.drop('Stamina',axis=1)\r\n",
    "# print(y.head())\r\n",
    "# print(x.head())"
   ]
  },
  {
   "cell_type": "code",
   "execution_count": 109,
   "metadata": {},
   "outputs": [],
   "source": [
    "# creamos variables para la regresión utilizando la función train test split\r\n",
    "# 20% para test y 80% para entrenamiento\r\n",
    "from sklearn.model_selection import train_test_split\r\n",
    "x_train, x_test, y_train, y_test = train_test_split(x, y, test_size = 0.2, random_state = 77)"
   ]
  },
  {
   "cell_type": "code",
   "execution_count": 110,
   "metadata": {},
   "outputs": [],
   "source": [
    "# regresíón lineal\r\n",
    "from sklearn import linear_model\r\n",
    "regresion = linear_model.LinearRegression()"
   ]
  },
  {
   "cell_type": "code",
   "execution_count": 116,
   "metadata": {},
   "outputs": [
    {
     "data": {
      "text/plain": [
       "LinearRegression()"
      ]
     },
     "execution_count": 116,
     "metadata": {},
     "output_type": "execute_result"
    }
   ],
   "source": [
    "# ejecución del modelo\r\n",
    "regresion.fit(x_train, y_train)"
   ]
  },
  {
   "cell_type": "code",
   "execution_count": 117,
   "metadata": {},
   "outputs": [
    {
     "name": "stdout",
     "output_type": "stream",
     "text": [
      "0.7227992130306042\n",
      "0.7225676843630875\n"
     ]
    }
   ],
   "source": [
    "# presición del entrenamiento\r\n",
    "train_score = regresion.score(x_train, y_train)\r\n",
    "test_score = regresion.score(x_test, y_test)\r\n",
    "print(train_score)\r\n",
    "print(test_score)"
   ]
  },
  {
   "cell_type": "code",
   "execution_count": 112,
   "metadata": {},
   "outputs": [
    {
     "data": {
      "text/html": [
       "<div>\n",
       "<style scoped>\n",
       "    .dataframe tbody tr th:only-of-type {\n",
       "        vertical-align: middle;\n",
       "    }\n",
       "\n",
       "    .dataframe tbody tr th {\n",
       "        vertical-align: top;\n",
       "    }\n",
       "\n",
       "    .dataframe thead th {\n",
       "        text-align: right;\n",
       "    }\n",
       "</style>\n",
       "<table border=\"1\" class=\"dataframe\">\n",
       "  <thead>\n",
       "    <tr style=\"text-align: right;\">\n",
       "      <th></th>\n",
       "      <th>Coefficient</th>\n",
       "    </tr>\n",
       "  </thead>\n",
       "  <tbody>\n",
       "    <tr>\n",
       "      <th>Age</th>\n",
       "      <td>-0.525338</td>\n",
       "    </tr>\n",
       "    <tr>\n",
       "      <th>Overall</th>\n",
       "      <td>0.395968</td>\n",
       "    </tr>\n",
       "    <tr>\n",
       "      <th>Potential</th>\n",
       "      <td>-0.494335</td>\n",
       "    </tr>\n",
       "    <tr>\n",
       "      <th>Weak Foot</th>\n",
       "      <td>0.168609</td>\n",
       "    </tr>\n",
       "    <tr>\n",
       "      <th>Acceleration</th>\n",
       "      <td>0.187368</td>\n",
       "    </tr>\n",
       "    <tr>\n",
       "      <th>SprintSpeed</th>\n",
       "      <td>0.171526</td>\n",
       "    </tr>\n",
       "    <tr>\n",
       "      <th>Strength</th>\n",
       "      <td>0.160496</td>\n",
       "    </tr>\n",
       "    <tr>\n",
       "      <th>LongShots</th>\n",
       "      <td>0.062657</td>\n",
       "    </tr>\n",
       "    <tr>\n",
       "      <th>Aggression</th>\n",
       "      <td>0.130040</td>\n",
       "    </tr>\n",
       "    <tr>\n",
       "      <th>Interceptions</th>\n",
       "      <td>0.245556</td>\n",
       "    </tr>\n",
       "    <tr>\n",
       "      <th>Positioning</th>\n",
       "      <td>0.180306</td>\n",
       "    </tr>\n",
       "    <tr>\n",
       "      <th>Vision</th>\n",
       "      <td>0.012110</td>\n",
       "    </tr>\n",
       "    <tr>\n",
       "      <th>Penalties</th>\n",
       "      <td>0.008671</td>\n",
       "    </tr>\n",
       "    <tr>\n",
       "      <th>ValueNumeric</th>\n",
       "      <td>0.000692</td>\n",
       "    </tr>\n",
       "  </tbody>\n",
       "</table>\n",
       "</div>"
      ],
      "text/plain": [
       "               Coefficient\n",
       "Age              -0.525338\n",
       "Overall           0.395968\n",
       "Potential        -0.494335\n",
       "Weak Foot         0.168609\n",
       "Acceleration      0.187368\n",
       "SprintSpeed       0.171526\n",
       "Strength          0.160496\n",
       "LongShots         0.062657\n",
       "Aggression        0.130040\n",
       "Interceptions     0.245556\n",
       "Positioning       0.180306\n",
       "Vision            0.012110\n",
       "Penalties         0.008671\n",
       "ValueNumeric      0.000692"
      ]
     },
     "execution_count": 112,
     "metadata": {},
     "output_type": "execute_result"
    }
   ],
   "source": [
    "coeff_df = pd.DataFrame(regresion.coef_, x.columns, columns=['Coefficient'])\r\n",
    "coeff_df"
   ]
  },
  {
   "cell_type": "code",
   "execution_count": 114,
   "metadata": {},
   "outputs": [
    {
     "data": {
      "text/plain": [
       "19.270154963389253"
      ]
     },
     "execution_count": 114,
     "metadata": {},
     "output_type": "execute_result"
    }
   ],
   "source": [
    "regresion.intercept_"
   ]
  },
  {
   "cell_type": "markdown",
   "metadata": {},
   "source": [
    "Report your findings from the model summary. In particular, report about the model as a whole using the F-test and how much variation is predicted by the model using the r squared."
   ]
  },
  {
   "cell_type": "code",
   "execution_count": 120,
   "metadata": {},
   "outputs": [
    {
     "data": {
      "text/html": [
       "<div>\n",
       "<style scoped>\n",
       "    .dataframe tbody tr th:only-of-type {\n",
       "        vertical-align: middle;\n",
       "    }\n",
       "\n",
       "    .dataframe tbody tr th {\n",
       "        vertical-align: top;\n",
       "    }\n",
       "\n",
       "    .dataframe thead th {\n",
       "        text-align: right;\n",
       "    }\n",
       "</style>\n",
       "<table border=\"1\" class=\"dataframe\">\n",
       "  <thead>\n",
       "    <tr style=\"text-align: right;\">\n",
       "      <th></th>\n",
       "      <th>Actual</th>\n",
       "      <th>Predicted</th>\n",
       "    </tr>\n",
       "  </thead>\n",
       "  <tbody>\n",
       "    <tr>\n",
       "      <th>18019</th>\n",
       "      <td>23.0</td>\n",
       "      <td>22.472794</td>\n",
       "    </tr>\n",
       "    <tr>\n",
       "      <th>6846</th>\n",
       "      <td>78.0</td>\n",
       "      <td>77.546071</td>\n",
       "    </tr>\n",
       "    <tr>\n",
       "      <th>994</th>\n",
       "      <td>73.0</td>\n",
       "      <td>73.732537</td>\n",
       "    </tr>\n",
       "    <tr>\n",
       "      <th>3028</th>\n",
       "      <td>32.0</td>\n",
       "      <td>39.624930</td>\n",
       "    </tr>\n",
       "    <tr>\n",
       "      <th>3086</th>\n",
       "      <td>75.0</td>\n",
       "      <td>77.943885</td>\n",
       "    </tr>\n",
       "    <tr>\n",
       "      <th>...</th>\n",
       "      <td>...</td>\n",
       "      <td>...</td>\n",
       "    </tr>\n",
       "    <tr>\n",
       "      <th>4776</th>\n",
       "      <td>55.0</td>\n",
       "      <td>72.327934</td>\n",
       "    </tr>\n",
       "    <tr>\n",
       "      <th>2709</th>\n",
       "      <td>76.0</td>\n",
       "      <td>73.488836</td>\n",
       "    </tr>\n",
       "    <tr>\n",
       "      <th>1777</th>\n",
       "      <td>35.0</td>\n",
       "      <td>36.019852</td>\n",
       "    </tr>\n",
       "    <tr>\n",
       "      <th>8788</th>\n",
       "      <td>76.0</td>\n",
       "      <td>71.371188</td>\n",
       "    </tr>\n",
       "    <tr>\n",
       "      <th>1408</th>\n",
       "      <td>74.0</td>\n",
       "      <td>65.131667</td>\n",
       "    </tr>\n",
       "  </tbody>\n",
       "</table>\n",
       "<p>3584 rows × 2 columns</p>\n",
       "</div>"
      ],
      "text/plain": [
       "       Actual  Predicted\n",
       "18019    23.0  22.472794\n",
       "6846     78.0  77.546071\n",
       "994      73.0  73.732537\n",
       "3028     32.0  39.624930\n",
       "3086     75.0  77.943885\n",
       "...       ...        ...\n",
       "4776     55.0  72.327934\n",
       "2709     76.0  73.488836\n",
       "1777     35.0  36.019852\n",
       "8788     76.0  71.371188\n",
       "1408     74.0  65.131667\n",
       "\n",
       "[3584 rows x 2 columns]"
      ]
     },
     "execution_count": 120,
     "metadata": {},
     "output_type": "execute_result"
    }
   ],
   "source": [
    "# valore estimados\r\n",
    "predicted = regresion.predict(x_test)\r\n",
    "df_pred = pd.DataFrame({'Actual':y_test,'Predicted':predicted})\r\n",
    "df_pred"
   ]
  },
  {
   "cell_type": "code",
   "execution_count": 135,
   "metadata": {},
   "outputs": [
    {
     "data": {
      "text/plain": [
       "Ridge(alpha=100)"
      ]
     },
     "execution_count": 135,
     "metadata": {},
     "output_type": "execute_result"
    }
   ],
   "source": [
    "# Your conclusions here:\r\n",
    "from sklearn import metrics\r\n",
    "from sklearn.linear_model import Ridge\r\n",
    "import matplotlib.pyplot as plt\r\n",
    "\r\n",
    "metrics.mean_squared_error(y_test, predicted)\r\n",
    "metrics.mean_absolute_error(y_test,predicted)\r\n",
    "rr = Ridge()\r\n",
    "rr.fit(x_train, y_train)\r\n",
    "rr100 = Ridge(alpha=100) \r\n",
    "rr100.fit(x_train,y_train)\r\n"
   ]
  },
  {
   "cell_type": "code",
   "execution_count": 130,
   "metadata": {},
   "outputs": [],
   "source": [
    "ridge_train_score = rr.score(x_train, y_train)\r\n",
    "ridge_test_score = rr.score(x_test, y_test)\r\n",
    "ridge100_train_score = rr100.score(x_train, y_train)\r\n",
    "ridge100_test_score = rr100.score(x_test, y_test)"
   ]
  },
  {
   "cell_type": "code",
   "execution_count": 131,
   "metadata": {},
   "outputs": [
    {
     "data": {
      "text/html": [
       "<div>\n",
       "<style scoped>\n",
       "    .dataframe tbody tr th:only-of-type {\n",
       "        vertical-align: middle;\n",
       "    }\n",
       "\n",
       "    .dataframe tbody tr th {\n",
       "        vertical-align: top;\n",
       "    }\n",
       "\n",
       "    .dataframe thead th {\n",
       "        text-align: right;\n",
       "    }\n",
       "</style>\n",
       "<table border=\"1\" class=\"dataframe\">\n",
       "  <thead>\n",
       "    <tr style=\"text-align: right;\">\n",
       "      <th></th>\n",
       "      <th>Actual</th>\n",
       "      <th>Predicted</th>\n",
       "    </tr>\n",
       "  </thead>\n",
       "  <tbody>\n",
       "    <tr>\n",
       "      <th>18019</th>\n",
       "      <td>23.0</td>\n",
       "      <td>22.479310</td>\n",
       "    </tr>\n",
       "    <tr>\n",
       "      <th>6846</th>\n",
       "      <td>78.0</td>\n",
       "      <td>77.548200</td>\n",
       "    </tr>\n",
       "    <tr>\n",
       "      <th>994</th>\n",
       "      <td>73.0</td>\n",
       "      <td>73.734869</td>\n",
       "    </tr>\n",
       "    <tr>\n",
       "      <th>3028</th>\n",
       "      <td>32.0</td>\n",
       "      <td>39.625596</td>\n",
       "    </tr>\n",
       "    <tr>\n",
       "      <th>3086</th>\n",
       "      <td>75.0</td>\n",
       "      <td>77.943630</td>\n",
       "    </tr>\n",
       "    <tr>\n",
       "      <th>...</th>\n",
       "      <td>...</td>\n",
       "      <td>...</td>\n",
       "    </tr>\n",
       "    <tr>\n",
       "      <th>4776</th>\n",
       "      <td>55.0</td>\n",
       "      <td>72.323583</td>\n",
       "    </tr>\n",
       "    <tr>\n",
       "      <th>2709</th>\n",
       "      <td>76.0</td>\n",
       "      <td>73.492467</td>\n",
       "    </tr>\n",
       "    <tr>\n",
       "      <th>1777</th>\n",
       "      <td>35.0</td>\n",
       "      <td>36.017063</td>\n",
       "    </tr>\n",
       "    <tr>\n",
       "      <th>8788</th>\n",
       "      <td>76.0</td>\n",
       "      <td>71.365883</td>\n",
       "    </tr>\n",
       "    <tr>\n",
       "      <th>1408</th>\n",
       "      <td>74.0</td>\n",
       "      <td>65.128868</td>\n",
       "    </tr>\n",
       "  </tbody>\n",
       "</table>\n",
       "<p>3584 rows × 2 columns</p>\n",
       "</div>"
      ],
      "text/plain": [
       "       Actual  Predicted\n",
       "18019    23.0  22.479310\n",
       "6846     78.0  77.548200\n",
       "994      73.0  73.734869\n",
       "3028     32.0  39.625596\n",
       "3086     75.0  77.943630\n",
       "...       ...        ...\n",
       "4776     55.0  72.323583\n",
       "2709     76.0  73.492467\n",
       "1777     35.0  36.017063\n",
       "8788     76.0  71.365883\n",
       "1408     74.0  65.128868\n",
       "\n",
       "[3584 rows x 2 columns]"
      ]
     },
     "execution_count": 131,
     "metadata": {},
     "output_type": "execute_result"
    }
   ],
   "source": [
    "predicted_ridge = rr100.predict(x_test)\r\n",
    "predicted_ridge = pd.DataFrame({'Actual': y_test, 'Predicted':predicted_ridge})\r\n",
    "predicted_ridge"
   ]
  },
  {
   "cell_type": "code",
   "execution_count": 132,
   "metadata": {},
   "outputs": [
    {
     "name": "stdout",
     "output_type": "stream",
     "text": [
      "linear regression train score: 0.7227992130306042\n",
      "linear regression test score: 0.7225676843630875\n",
      "ridge regression train score low alpha: 0.7227992130232179\n",
      "ridge regression test score low alpha: 0.7225677617189381\n",
      "ridge regression train score high alpha: 0.7227991400835768\n",
      "ridge regression test score high alpha: 0.7225753073803358\n"
     ]
    }
   ],
   "source": [
    "print(\"linear regression train score:\", train_score)\r\n",
    "print(\"linear regression test score:\", test_score)\r\n",
    "print(\"ridge regression train score low alpha:\", ridge_train_score)\r\n",
    "print(\"ridge regression test score low alpha:\", ridge_test_score)\r\n",
    "print(\"ridge regression train score high alpha:\", ridge100_train_score)\r\n",
    "print(\"ridge regression test score high alpha:\", ridge100_test_score)"
   ]
  },
  {
   "cell_type": "code",
   "execution_count": 137,
   "metadata": {},
   "outputs": [
    {
     "data": {
      "image/png": "[encoded data removed]",
      "text/plain": [
       "<Figure size 1296x432 with 1 Axes>"
      ]
     },
     "metadata": {},
     "output_type": "display_data"
    }
   ],
   "source": [
    "fig = plt.figure(facecolor='w',figsize=(18, 6))\r\n",
    "plt.plot(rr.coef_,alpha=0.7,linestyle='none',marker='*',markersize=9,\\\r\n",
    "         color='red',label=r'Ridge; $\\alpha = 0.01$',zorder=7)\r\n",
    "plt.plot(rr100.coef_,alpha=0.5,linestyle='none',marker='d',markersize=10,\\\r\n",
    "         color='blue',label=r'Ridge; $\\alpha = 100$')\r\n",
    "plt.plot(regresion.coef_,alpha=0.4,linestyle='none',marker='o',markersize=14,\\\r\n",
    "         color='green',label='Linear Regression')\r\n",
    "plt.xlabel('Coefficient Index',fontsize=16)\r\n",
    "plt.ylabel('Coefficient Magnitude',fontsize=16)\r\n",
    "plt.legend(fontsize=13,loc=4)\r\n",
    "plt.show()"
   ]
  }
 ],
 "metadata": {
  "interpreter": {
   "hash": "376f5b0795f81aa7b5d99e448d6274743a66c9892fd26cf11e505993f41df5fa"
  },
  "kernelspec": {
   "display_name": "Python 3.9.6 64-bit",
   "name": "python3"
  },
  "language_info": {
   "codemirror_mode": {
    "name": "ipython",
    "version": 3
   },
   "file_extension": ".py",
   "mimetype": "text/x-python",
   "name": "python",
   "nbconvert_exporter": "python",
   "pygments_lexer": "ipython3",
   "version": "3.9.6"
  }
 },
 "nbformat": 4,
 "nbformat_minor": 2
}